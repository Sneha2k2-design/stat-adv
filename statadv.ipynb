{
  "nbformat": 4,
  "nbformat_minor": 0,
  "metadata": {
    "colab": {
      "provenance": []
    },
    "kernelspec": {
      "name": "python3",
      "display_name": "Python 3"
    },
    "language_info": {
      "name": "python"
    }
  },
  "cells": [
    {
      "cell_type": "markdown",
      "source": [
        ". Explain the properties of the F-distribution."
      ],
      "metadata": {
        "id": "lmNyxEYc0Fjr"
      }
    },
    {
      "cell_type": "markdown",
      "source": [
        "The F-distribution is a continuous probability distribution used primarily in analysis of variance (ANOVA) and in testing hypotheses about variances. Key properties include:\n",
        "\n",
        "Non-Negative Values: F-values are always non-negative, as it is the ratio of two variances.\n",
        "\n",
        "Skewed Right: The distribution is right-skewed, especially with smaller degrees of freedom.\n",
        "\n",
        "Degrees of Freedom: Defined by two parameters—numerator degrees of freedom (\n",
        "d\n",
        "1\n",
        ") and denominator degrees of freedom (\n",
        "d\n",
        "2\n",
        ").\n",
        "\n",
        "Mean and Variance: The mean is approximately 1 for large degrees of freedom. Variance depends on the degrees of freedom."
      ],
      "metadata": {
        "id": "O78D5l9X5a5u"
      }
    },
    {
      "cell_type": "markdown",
      "source": [
        ". In which types of statistical tests is the F-distribution used, and why is it appropriate for these tests?"
      ],
      "metadata": {
        "id": "FHvVK6VM5CTo"
      }
    },
    {
      "cell_type": "markdown",
      "source": [
        "Analysis of Variance (ANOVA): Helps compare the variances among multiple groups. The F-distribution is appropriate because it evaluates the ratio of variances between groups to within groups, highlighting significant differences.\n",
        "\n",
        "Regression Analysis: Used to test the overall significance of a regression model. The F-test checks if the model explains a significant portion of the variance in the dependent variable, using the F-distribution to compare model fit.\n",
        "\n",
        "Comparing Two Variances: This test checks if two populations have different variances. The F-distribution is suitable here because it handles the ratio of the two variances effectively."
      ],
      "metadata": {
        "id": "pRdJo8gn5rF2"
      }
    },
    {
      "cell_type": "markdown",
      "source": [
        " What are the key assumptions required for conducting an F-test to compare the variances of two\n",
        "populations?\n",
        "\n",
        "\n",
        "\n"
      ],
      "metadata": {
        "id": "xuRVLiu06EDb"
      }
    },
    {
      "cell_type": "markdown",
      "source": [
        "Normality: The populations from which the samples are drawn should be normally distributed.\n",
        "\n",
        "Independence: The samples must be independent of each other.\n",
        "\n",
        "Random Sampling: The data should be collected using a random sampling method.\n",
        "\n",
        "Equal Variances: The F-test assumes that the two populations have equal variances (this might seem contradictory, but it's a part of the initial assumption when testing)."
      ],
      "metadata": {
        "id": "-umSjqpK6JPh"
      }
    },
    {
      "cell_type": "markdown",
      "source": [
        "What is the purpose of ANOVA, and how does it differ from a t-test?\n",
        "\n",
        "\n",
        "\n"
      ],
      "metadata": {
        "id": "u0OZM8-X6MkQ"
      }
    },
    {
      "cell_type": "markdown",
      "source": [
        "ANOVA (Analysis of Variance) and t-tests both compare means, but they serve different purposes and are used in different scenarios:\n",
        "\n",
        "ANOVA\n",
        "Purpose: Tests whether there are statistically significant differences among the means of three or more groups.\n",
        "\n",
        "Usage: Useful when comparing more than two groups to determine if at least one group mean is different from the others.\n",
        "\n",
        "Example: Comparing the average test scores of students from three different schools.\n",
        "\n",
        "T-Test\n",
        "Purpose: Tests whether there is a statistically significant difference between the means of two groups.\n",
        "\n",
        "Usage: Suitable for comparing the means of exactly two groups.\n",
        "\n",
        "Example: Comparing the average test scores of students from two different schools.\n",
        "\n",
        "Key Difference:\n",
        "Number of Groups: T-test is for comparing means between two groups, while ANOVA can handle three or more groups.\n",
        "\n"
      ],
      "metadata": {
        "id": "KI38CxkK6XJ8"
      }
    },
    {
      "cell_type": "markdown",
      "source": [],
      "metadata": {
        "id": "eUM4bRjZ5oJK"
      }
    },
    {
      "cell_type": "markdown",
      "source": [
        ". Explain when and why you would use a one-way ANOVA instead of multiple t-tests when comparing more\n",
        "than two groups."
      ],
      "metadata": {
        "id": "lOjy-Xsi6eoa"
      }
    },
    {
      "cell_type": "markdown",
      "source": [
        "Risk of Type I Error: Performing multiple t-tests increases the chance of committing a Type I error (false positive). Each t-test carries its own risk of error, and these risks accumulate, making it more likely you’ll find a difference just by chance. ANOVA helps control this risk by testing all groups simultaneously.\n",
        "\n",
        "Efficiency: Instead of running multiple t-tests (one for each pair of groups), a one-way ANOVA does it all in one go. This is more efficient and saves time, especially when dealing with numerous groups.\n",
        "\n",
        "Overall Significance: ANOVA assesses the overall significance among group means. If it finds a significant difference, you can follow up with post-hoc tests to pinpoint where those differences lie. This holistic approach is more insightful when starting out.\n",
        "\n",
        "Example:\n",
        "Imagine comparing the average test scores of students from three different schools. Instead of conducting multiple t-tests (School A vs. School B, School A vs. School C, and School B vs. School C), you perform one-way ANOVA to determine if there’s any significant difference among the schools overall."
      ],
      "metadata": {
        "id": "onKT-q2G6pMi"
      }
    },
    {
      "cell_type": "markdown",
      "source": [
        "Explain how variance is partitioned in ANOVA into between-group variance and within-group variance.\n",
        "How does this partitioning contribute to the calculation of the F-statistic?"
      ],
      "metadata": {
        "id": "a_IMApWC6wIC"
      }
    },
    {
      "cell_type": "markdown",
      "source": [
        "Variance Partitioning\n",
        "Between-Group Variance (SSB):\n",
        "\n",
        "Measures the variation due to the interaction between the different groups.\n",
        "\n",
        "Calculated by considering the differences between each group's mean and the overall mean (grand mean).\n",
        "\n",
        "Reflects how much the group means vary from the overall mean.\n",
        "\n",
        "Within-Group Variance (SSW):\n",
        "\n",
        "Measures the variation within each group.\n",
        "\n",
        "Calculated by looking at the differences between individual observations and their respective group means.\n",
        "\n",
        "Reflects the variability within each group.\n",
        "\n",
        "Calculation of the F-Statistic\n",
        "Mean Squares:\n",
        "\n",
        "Between-Group Mean Square (MSB):\n",
        "M\n",
        "S\n",
        "B\n",
        "=\n",
        "S\n",
        "S\n",
        "B\n",
        "d\n",
        "f\n",
        "b\n",
        "\n",
        "Where\n",
        "S\n",
        "S\n",
        "B\n",
        " is the sum of squares between groups and\n",
        "d\n",
        "f\n",
        "b\n",
        " is the degrees of freedom between groups.\n",
        "\n",
        "Within-Group Mean Square (MSW):\n",
        "M\n",
        "S\n",
        "W\n",
        "=\n",
        "S\n",
        "S\n",
        "W\n",
        "d\n",
        "f\n",
        "w\n",
        "\n",
        "Where\n",
        "S\n",
        "S\n",
        "W\n",
        " is the sum of squares within groups and\n",
        "d\n",
        "f\n",
        "w\n",
        " is the degrees of freedom within groups.\n",
        "\n",
        "F-Statistic:\n",
        "\n",
        "Calculated as the ratio of the between-group mean square to the within-group mean square.\n",
        "\n",
        "Formula:\n",
        "F\n",
        "=\n",
        "M\n",
        "S\n",
        "B\n",
        "M\n",
        "S\n",
        "W\n",
        "\n",
        "This ratio tells us if the between-group variance is significantly larger than the within-group variance.\n",
        "\n",
        "Contribution to the F-Statistic\n",
        "If the F-statistic is large, it suggests that the between-group variance is much greater than the within-group variance, indicating a significant difference among group means.\n",
        "\n",
        "A small F-statistic suggests that the differences among group means are not substantial compared to the variation within groups."
      ],
      "metadata": {
        "id": "tT0u3Cu16-xi"
      }
    },
    {
      "cell_type": "markdown",
      "source": [
        " Compare the classical (frequentist) approach to ANOVA with the Bayesian approach. What are the key\n",
        "differences in terms of how they handle uncertainty, parameter estimation, and hypothesis testing?"
      ],
      "metadata": {
        "id": "2d0EVvtf7D0_"
      }
    },
    {
      "cell_type": "markdown",
      "source": [
        "Classical (Frequentist) Approach to ANOVA:\n",
        "Handling Uncertainty:\n",
        "\n",
        "Relies on long-run frequencies and p-values.\n",
        "\n",
        "Measures uncertainty using confidence intervals and p-values to infer results.\n",
        "\n",
        "Parameter Estimation:\n",
        "\n",
        "Uses point estimates derived from sample data.\n",
        "\n",
        "Estimates parameters based on the assumption of fixed, unknown true values.\n",
        "\n",
        "Hypothesis Testing:\n",
        "\n",
        "Tests null hypothesis (no effect) against an alternative hypothesis using F-statistics.\n",
        "\n",
        "Decision is based on p-values; if p-value < α (significance level), reject null hypothesis.\n",
        "\n",
        "Relies on the assumption of data sampling from a population.\n",
        "\n",
        "Bayesian Approach to ANOVA:\n",
        "Handling Uncertainty:\n",
        "\n",
        "Incorporates prior distributions to represent uncertainty about parameters before observing the data.\n",
        "\n",
        "Updates beliefs with posterior distributions after observing the data.\n",
        "\n",
        "Parameter Estimation:\n",
        "\n",
        "Provides a full posterior distribution for parameters, rather than single point estimates.\n",
        "\n",
        "Integrates prior knowledge with observed data to estimate parameters.\n",
        "\n",
        "Hypothesis Testing:\n",
        "\n",
        "Compares models directly using posterior probabilities.\n",
        "\n",
        "Uses Bayesian model comparison criteria like Bayes Factors.\n",
        "\n",
        "Emphasizes the probability of hypotheses given the data.\n",
        "\n",
        "Key Differences:\n",
        "Uncertainty: Classical approach relies on frequentist interpretation and confidence intervals; Bayesian approach uses prior and posterior distributions.\n",
        "\n",
        "Parameter Estimation: Classical uses point estimates; Bayesian provides a full posterior distribution integrating prior knowledge.\n",
        "\n",
        "Hypothesis Testing: Classical relies on p-values; Bayesian compares models using posterior probabilities and Bayes Factors."
      ],
      "metadata": {
        "id": "2lEOQpe_7TQu"
      }
    },
    {
      "cell_type": "markdown",
      "source": [
        ". Question: You have two sets of data representing the incomes of two different professions1\n",
        "V Profession A: [48, 52, 55, 60, 62'\n",
        "V Profession B: [45, 50, 55, 52, 47] Perform an F-test to determine if the variances of the two professions'\n",
        "incomes are equal. What are your conclusions based on the F-test?\n",
        "\n",
        "Task: Use Python to calculate the F-statistic and p-value for the given data.\n",
        "\n",
        "Objective: Gain experience in performing F-tests and interpreting the results in terms of variance comparison."
      ],
      "metadata": {
        "id": "EqVGFIfk7WBB"
      }
    },
    {
      "cell_type": "code",
      "source": [
        "import numpy as np\n",
        "import scipy.stats as stats\n",
        "\n",
        "# Data for two professions\n",
        "profession_A = [48, 52, 55, 60, 62]\n",
        "profession_B = [45, 50, 55, 52, 47]\n",
        "\n",
        "# Calculate variances\n",
        "var_A = np.var(profession_A, ddof=1)  # Sample variance\n",
        "var_B = np.var(profession_B, ddof=1)  # Sample variance\n",
        "\n",
        "# F-statistic\n",
        "F = var_A / var_B\n",
        "print(f\"F-Statistic: {F}\")\n",
        "\n",
        "# Degrees of freedom\n",
        "df_A = len(profession_A) - 1\n",
        "df_B = len(profession_B) - 1\n",
        "\n",
        "# p-value\n",
        "p_value = stats.f.cdf(F, df_A, df_B)\n",
        "print(f\"P-Value: {p_value}\")\n",
        "\n",
        "# Conclusion\n",
        "alpha = 0.05  # Significance level\n",
        "if p_value < alpha:\n",
        "    print(\"Reject the null hypothesis: Variances are significantly different.\")\n",
        "else:\n",
        "    print(\"Fail to reject the null hypothesis: Variances are not significantly different.\")"
      ],
      "metadata": {
        "colab": {
          "base_uri": "https://localhost:8080/"
        },
        "id": "aEkkkfKe78Uw",
        "outputId": "4b076df1-e7bf-4eb8-ce8f-61001db35cd8"
      },
      "execution_count": 1,
      "outputs": [
        {
          "output_type": "stream",
          "name": "stdout",
          "text": [
            "F-Statistic: 2.089171974522293\n",
            "P-Value: 0.7534757004973305\n",
            "Fail to reject the null hypothesis: Variances are not significantly different.\n"
          ]
        }
      ]
    },
    {
      "cell_type": "markdown",
      "source": [
        " Question: Conduct a one-way ANOVA to test whether there are any statistically significant differences in\n",
        "average heights between three different regions with the following data1\n",
        "V Region A: [160, 162, 165, 158, 164'\n",
        "V Region B: [172, 175, 170, 168, 174'\n",
        "V Region C: [180, 182, 179, 185, 183'\n",
        "V Task: Write Python code to perform the one-way ANOVA and interpret the results\n",
        "V Objective: Learn how to perform one-way ANOVA using Python and interpret F-statistic and p-value."
      ],
      "metadata": {
        "id": "ay_oGjLw8FMT"
      }
    },
    {
      "cell_type": "code",
      "source": [
        "import scipy.stats as stats\n",
        "\n",
        "# Data for three regions\n",
        "region_A = [160, 162, 165, 158, 164]\n",
        "region_B = [172, 175, 170, 168, 174]\n",
        "region_C = [180, 182, 179, 185, 183]\n",
        "\n",
        "# Perform one-way ANOVA\n",
        "f_statistic, p_value = stats.f_oneway(region_A, region_B, region_C)\n",
        "\n",
        "print(f\"F-Statistic: {f_statistic}\")\n",
        "print(f\"P-Value: {p_value}\")\n",
        "\n",
        "# Interpret the results\n",
        "alpha = 0.05  # Significance level\n",
        "if p_value < alpha:\n",
        "    print(\"Reject the null hypothesis: There are significant differences in average heights between the regions.\")\n",
        "else:\n",
        "    print(\"Fail to reject the null hypothesis: No significant differences in average heights between the regions.\")"
      ],
      "metadata": {
        "colab": {
          "base_uri": "https://localhost:8080/"
        },
        "id": "dPC2x5-v8OVy",
        "outputId": "2e4dd091-ecb8-41ab-d10d-bf790c7348dc"
      },
      "execution_count": 2,
      "outputs": [
        {
          "output_type": "stream",
          "name": "stdout",
          "text": [
            "F-Statistic: 67.87330316742101\n",
            "P-Value: 2.870664187937026e-07\n",
            "Reject the null hypothesis: There are significant differences in average heights between the regions.\n"
          ]
        }
      ]
    },
    {
      "cell_type": "markdown",
      "source": [],
      "metadata": {
        "id": "gdCOosfo67p-"
      }
    }
  ]
}